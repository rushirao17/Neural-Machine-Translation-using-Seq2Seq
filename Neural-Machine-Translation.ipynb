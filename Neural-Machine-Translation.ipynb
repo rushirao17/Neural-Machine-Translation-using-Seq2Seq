{
 "cells": [
  {
   "cell_type": "markdown",
   "metadata": {},
   "source": [
    "# **Group 6: Language Translation using Seq2Seq**"
   ]
  },
  {
   "cell_type": "code",
   "execution_count": 1,
   "metadata": {
    "execution": {
     "iopub.execute_input": "2025-01-06T19:03:52.139546Z",
     "iopub.status.busy": "2025-01-06T19:03:52.139207Z",
     "iopub.status.idle": "2025-01-06T19:04:00.016423Z",
     "shell.execute_reply": "2025-01-06T19:04:00.015714Z",
     "shell.execute_reply.started": "2025-01-06T19:03:52.139510Z"
    }
   },
   "outputs": [],
   "source": [
    "import numpy as np\n",
    "import pandas as pd\n",
    "\n",
    "import string\n",
    "from string import digits\n",
    "import matplotlib.pyplot as plt\n",
    "%matplotlib inline\n",
    "import re\n",
    "\n",
    "import seaborn as sns\n",
    "from sklearn.utils import shuffle\n",
    "from sklearn.model_selection import train_test_split\n",
    "from keras.layers import Input, LSTM, Embedding, Dense\n",
    "from keras.models import Model"
   ]
  },
  {
   "cell_type": "code",
   "execution_count": 2,
   "metadata": {
    "execution": {
     "iopub.execute_input": "2025-01-06T19:04:00.017840Z",
     "iopub.status.busy": "2025-01-06T19:04:00.017420Z",
     "iopub.status.idle": "2025-01-06T19:04:00.134166Z",
     "shell.execute_reply": "2025-01-06T19:04:00.133389Z",
     "shell.execute_reply.started": "2025-01-06T19:04:00.017818Z"
    }
   },
   "outputs": [
    {
     "data": {
      "text/html": [
       "<div>\n",
       "<style scoped>\n",
       "    .dataframe tbody tr th:only-of-type {\n",
       "        vertical-align: middle;\n",
       "    }\n",
       "\n",
       "    .dataframe tbody tr th {\n",
       "        vertical-align: top;\n",
       "    }\n",
       "\n",
       "    .dataframe thead th {\n",
       "        text-align: right;\n",
       "    }\n",
       "</style>\n",
       "<table border=\"1\" class=\"dataframe\">\n",
       "  <thead>\n",
       "    <tr style=\"text-align: right;\">\n",
       "      <th></th>\n",
       "      <th>English</th>\n",
       "      <th>Marathi</th>\n",
       "    </tr>\n",
       "  </thead>\n",
       "  <tbody>\n",
       "    <tr>\n",
       "      <th>0</th>\n",
       "      <td>Go.</td>\n",
       "      <td>जा.</td>\n",
       "    </tr>\n",
       "    <tr>\n",
       "      <th>1</th>\n",
       "      <td>Run!</td>\n",
       "      <td>पळ!</td>\n",
       "    </tr>\n",
       "    <tr>\n",
       "      <th>2</th>\n",
       "      <td>Run!</td>\n",
       "      <td>धाव!</td>\n",
       "    </tr>\n",
       "    <tr>\n",
       "      <th>3</th>\n",
       "      <td>Run!</td>\n",
       "      <td>पळा!</td>\n",
       "    </tr>\n",
       "    <tr>\n",
       "      <th>4</th>\n",
       "      <td>Run!</td>\n",
       "      <td>धावा!</td>\n",
       "    </tr>\n",
       "  </tbody>\n",
       "</table>\n",
       "</div>"
      ],
      "text/plain": [
       "  English Marathi\n",
       "0     Go.     जा.\n",
       "1    Run!     पळ!\n",
       "2    Run!    धाव!\n",
       "3    Run!    पळा!\n",
       "4    Run!   धावा!"
      ]
     },
     "execution_count": 2,
     "metadata": {},
     "output_type": "execute_result"
    }
   ],
   "source": [
    "lines=pd.read_csv(\"../input/newest11/language_data.csv\",encoding='utf-8')\n",
    "lines.head()"
   ]
  },
  {
   "cell_type": "code",
   "execution_count": 3,
   "metadata": {
    "execution": {
     "iopub.execute_input": "2025-01-06T19:04:00.136140Z",
     "iopub.status.busy": "2025-01-06T19:04:00.135823Z",
     "iopub.status.idle": "2025-01-06T19:04:00.176229Z",
     "shell.execute_reply": "2025-01-06T19:04:00.175376Z",
     "shell.execute_reply.started": "2025-01-06T19:04:00.136116Z"
    }
   },
   "outputs": [
    {
     "data": {
      "text/html": [
       "<div>\n",
       "<style scoped>\n",
       "    .dataframe tbody tr th:only-of-type {\n",
       "        vertical-align: middle;\n",
       "    }\n",
       "\n",
       "    .dataframe tbody tr th {\n",
       "        vertical-align: top;\n",
       "    }\n",
       "\n",
       "    .dataframe thead th {\n",
       "        text-align: right;\n",
       "    }\n",
       "</style>\n",
       "<table border=\"1\" class=\"dataframe\">\n",
       "  <thead>\n",
       "    <tr style=\"text-align: right;\">\n",
       "      <th></th>\n",
       "      <th>English</th>\n",
       "      <th>Marathi</th>\n",
       "    </tr>\n",
       "  </thead>\n",
       "  <tbody>\n",
       "    <tr>\n",
       "      <th>17968</th>\n",
       "      <td>What a beautiful night!</td>\n",
       "      <td>काय सुंदर रात्र होती!</td>\n",
       "    </tr>\n",
       "    <tr>\n",
       "      <th>5034</th>\n",
       "      <td>Where's the map?</td>\n",
       "      <td>नकाशा कुठेय?</td>\n",
       "    </tr>\n",
       "    <tr>\n",
       "      <th>1697</th>\n",
       "      <td>Unbelievable!</td>\n",
       "      <td>काहीही काय!</td>\n",
       "    </tr>\n",
       "    <tr>\n",
       "      <th>17538</th>\n",
       "      <td>The classroom is empty.</td>\n",
       "      <td>वर्ग रिकामा आहे.</td>\n",
       "    </tr>\n",
       "    <tr>\n",
       "      <th>37087</th>\n",
       "      <td>Those who live by the sword die by the sword.</td>\n",
       "      <td>जे तलवारीने जगतात ते तलवारीनेच मरतात.</td>\n",
       "    </tr>\n",
       "  </tbody>\n",
       "</table>\n",
       "</div>"
      ],
      "text/plain": [
       "                                             English  \\\n",
       "17968                        What a beautiful night!   \n",
       "5034                                Where's the map?   \n",
       "1697                                   Unbelievable!   \n",
       "17538                        The classroom is empty.   \n",
       "37087  Those who live by the sword die by the sword.   \n",
       "\n",
       "                                     Marathi  \n",
       "17968                  काय सुंदर रात्र होती!  \n",
       "5034                            नकाशा कुठेय?  \n",
       "1697                             काहीही काय!  \n",
       "17538                       वर्ग रिकामा आहे.  \n",
       "37087  जे तलवारीने जगतात ते तलवारीनेच मरतात.  "
      ]
     },
     "execution_count": 3,
     "metadata": {},
     "output_type": "execute_result"
    }
   ],
   "source": [
    "lines.drop_duplicates(inplace=True)\n",
    "\n",
    "lines=lines.sample(n=25000,random_state=42)\n",
    "lines.shape\n",
    "lines.head()"
   ]
  },
  {
   "cell_type": "code",
   "execution_count": 4,
   "metadata": {
    "execution": {
     "iopub.execute_input": "2025-01-06T19:04:00.177707Z",
     "iopub.status.busy": "2025-01-06T19:04:00.177462Z",
     "iopub.status.idle": "2025-01-06T19:04:00.220727Z",
     "shell.execute_reply": "2025-01-06T19:04:00.219847Z",
     "shell.execute_reply.started": "2025-01-06T19:04:00.177687Z"
    }
   },
   "outputs": [
    {
     "data": {
      "text/html": [
       "<div>\n",
       "<style scoped>\n",
       "    .dataframe tbody tr th:only-of-type {\n",
       "        vertical-align: middle;\n",
       "    }\n",
       "\n",
       "    .dataframe tbody tr th {\n",
       "        vertical-align: top;\n",
       "    }\n",
       "\n",
       "    .dataframe thead th {\n",
       "        text-align: right;\n",
       "    }\n",
       "</style>\n",
       "<table border=\"1\" class=\"dataframe\">\n",
       "  <thead>\n",
       "    <tr style=\"text-align: right;\">\n",
       "      <th></th>\n",
       "      <th>English</th>\n",
       "      <th>Marathi</th>\n",
       "    </tr>\n",
       "  </thead>\n",
       "  <tbody>\n",
       "    <tr>\n",
       "      <th>17968</th>\n",
       "      <td>what a beautiful night!</td>\n",
       "      <td>काय सुंदर रात्र होती!</td>\n",
       "    </tr>\n",
       "    <tr>\n",
       "      <th>5034</th>\n",
       "      <td>where's the map?</td>\n",
       "      <td>नकाशा कुठेय?</td>\n",
       "    </tr>\n",
       "    <tr>\n",
       "      <th>1697</th>\n",
       "      <td>unbelievable!</td>\n",
       "      <td>काहीही काय!</td>\n",
       "    </tr>\n",
       "    <tr>\n",
       "      <th>17538</th>\n",
       "      <td>the classroom is empty.</td>\n",
       "      <td>वर्ग रिकामा आहे.</td>\n",
       "    </tr>\n",
       "    <tr>\n",
       "      <th>37087</th>\n",
       "      <td>those who live by the sword die by the sword.</td>\n",
       "      <td>जे तलवारीने जगतात ते तलवारीनेच मरतात.</td>\n",
       "    </tr>\n",
       "  </tbody>\n",
       "</table>\n",
       "</div>"
      ],
      "text/plain": [
       "                                             English  \\\n",
       "17968                        what a beautiful night!   \n",
       "5034                                where's the map?   \n",
       "1697                                   unbelievable!   \n",
       "17538                        the classroom is empty.   \n",
       "37087  those who live by the sword die by the sword.   \n",
       "\n",
       "                                     Marathi  \n",
       "17968                  काय सुंदर रात्र होती!  \n",
       "5034                            नकाशा कुठेय?  \n",
       "1697                             काहीही काय!  \n",
       "17538                       वर्ग रिकामा आहे.  \n",
       "37087  जे तलवारीने जगतात ते तलवारीनेच मरतात.  "
      ]
     },
     "execution_count": 4,
     "metadata": {},
     "output_type": "execute_result"
    }
   ],
   "source": [
    "lines.English=lines.English.apply(lambda x: x.lower())\n",
    "lines.Marathi=lines.Marathi.apply(lambda x: x.lower())\n",
    "\n",
    "# Lowercase all characters\n",
    "lines['English']=lines['English'].apply(lambda x: x.lower())\n",
    "lines['Marathi']=lines['Marathi'].apply(lambda x: x.lower())\n",
    "\n",
    "lines.head()"
   ]
  },
  {
   "cell_type": "code",
   "execution_count": 5,
   "metadata": {
    "execution": {
     "iopub.execute_input": "2025-01-06T19:04:00.222260Z",
     "iopub.status.busy": "2025-01-06T19:04:00.221664Z",
     "iopub.status.idle": "2025-01-06T19:04:00.429778Z",
     "shell.execute_reply": "2025-01-06T19:04:00.429042Z",
     "shell.execute_reply.started": "2025-01-06T19:04:00.222226Z"
    }
   },
   "outputs": [],
   "source": [
    "lines['English']=lines['English'].apply(lambda x: re.sub(\"'\", '', x))\n",
    "lines['Marathi']=lines['Marathi'].apply(lambda x: re.sub(\"'\", '', x))\n",
    "exclude = set(string.punctuation)\n",
    "\n",
    "lines['English']=lines['English'].apply(lambda x: ''.join(ch for ch in x if ch not in exclude))\n",
    "lines['Marathi']=lines['Marathi'].apply(lambda x: ''.join(ch for ch in x if ch not in exclude))"
   ]
  },
  {
   "cell_type": "code",
   "execution_count": 6,
   "metadata": {
    "execution": {
     "iopub.execute_input": "2025-01-06T19:04:00.430889Z",
     "iopub.status.busy": "2025-01-06T19:04:00.430604Z",
     "iopub.status.idle": "2025-01-06T19:04:00.671770Z",
     "shell.execute_reply": "2025-01-06T19:04:00.671220Z",
     "shell.execute_reply.started": "2025-01-06T19:04:00.430866Z"
    }
   },
   "outputs": [],
   "source": [
    "remove_digits = str.maketrans('', '', digits)\n",
    "lines['English']=lines['English'].apply(lambda x: x.translate(remove_digits))\n",
    "lines['Marathi']=lines['Marathi'].apply(lambda x: x.translate(remove_digits))\n",
    "\n",
    "lines['Marathi'] = lines['Marathi'].apply(lambda x: re.sub(\"[२३०८१५७९४६]\", \"\", x))\n",
    "\n",
    "lines['English']=lines['English'].apply(lambda x: x.strip())\n",
    "lines['Marathi']=lines['Marathi'].apply(lambda x: x.strip())\n",
    "\n",
    "lines['English']=lines['English'].apply(lambda x: re.sub(\" +\", \" \", x))\n",
    "lines['Marathi']=lines['Marathi'].apply(lambda x: re.sub(\" +\", \" \", x))"
   ]
  },
  {
   "cell_type": "code",
   "execution_count": 7,
   "metadata": {
    "execution": {
     "iopub.execute_input": "2025-01-06T19:04:00.672624Z",
     "iopub.status.busy": "2025-01-06T19:04:00.672433Z",
     "iopub.status.idle": "2025-01-06T19:04:00.687805Z",
     "shell.execute_reply": "2025-01-06T19:04:00.687022Z",
     "shell.execute_reply.started": "2025-01-06T19:04:00.672606Z"
    }
   },
   "outputs": [
    {
     "data": {
      "text/html": [
       "<div>\n",
       "<style scoped>\n",
       "    .dataframe tbody tr th:only-of-type {\n",
       "        vertical-align: middle;\n",
       "    }\n",
       "\n",
       "    .dataframe tbody tr th {\n",
       "        vertical-align: top;\n",
       "    }\n",
       "\n",
       "    .dataframe thead th {\n",
       "        text-align: right;\n",
       "    }\n",
       "</style>\n",
       "<table border=\"1\" class=\"dataframe\">\n",
       "  <thead>\n",
       "    <tr style=\"text-align: right;\">\n",
       "      <th></th>\n",
       "      <th>English</th>\n",
       "      <th>Marathi</th>\n",
       "    </tr>\n",
       "  </thead>\n",
       "  <tbody>\n",
       "    <tr>\n",
       "      <th>17968</th>\n",
       "      <td>what a beautiful night</td>\n",
       "      <td>START_ काय सुंदर रात्र होती _END</td>\n",
       "    </tr>\n",
       "    <tr>\n",
       "      <th>5034</th>\n",
       "      <td>wheres the map</td>\n",
       "      <td>START_ नकाशा कुठेय _END</td>\n",
       "    </tr>\n",
       "    <tr>\n",
       "      <th>1697</th>\n",
       "      <td>unbelievable</td>\n",
       "      <td>START_ काहीही काय _END</td>\n",
       "    </tr>\n",
       "    <tr>\n",
       "      <th>17538</th>\n",
       "      <td>the classroom is empty</td>\n",
       "      <td>START_ वर्ग रिकामा आहे _END</td>\n",
       "    </tr>\n",
       "    <tr>\n",
       "      <th>37087</th>\n",
       "      <td>those who live by the sword die by the sword</td>\n",
       "      <td>START_ जे तलवारीने जगतात ते तलवारीनेच मरतात _END</td>\n",
       "    </tr>\n",
       "  </tbody>\n",
       "</table>\n",
       "</div>"
      ],
      "text/plain": [
       "                                            English  \\\n",
       "17968                        what a beautiful night   \n",
       "5034                                 wheres the map   \n",
       "1697                                   unbelievable   \n",
       "17538                        the classroom is empty   \n",
       "37087  those who live by the sword die by the sword   \n",
       "\n",
       "                                                Marathi  \n",
       "17968                  START_ काय सुंदर रात्र होती _END  \n",
       "5034                            START_ नकाशा कुठेय _END  \n",
       "1697                             START_ काहीही काय _END  \n",
       "17538                       START_ वर्ग रिकामा आहे _END  \n",
       "37087  START_ जे तलवारीने जगतात ते तलवारीनेच मरतात _END  "
      ]
     },
     "execution_count": 7,
     "metadata": {},
     "output_type": "execute_result"
    }
   ],
   "source": [
    "lines['Marathi'] = lines['Marathi'].apply(lambda x : 'START_ '+ x + ' _END')\n",
    "lines.head()"
   ]
  },
  {
   "cell_type": "code",
   "execution_count": 8,
   "metadata": {
    "execution": {
     "iopub.execute_input": "2025-01-06T19:04:00.689957Z",
     "iopub.status.busy": "2025-01-06T19:04:00.689731Z",
     "iopub.status.idle": "2025-01-06T19:04:00.760589Z",
     "shell.execute_reply": "2025-01-06T19:04:00.760001Z",
     "shell.execute_reply.started": "2025-01-06T19:04:00.689937Z"
    }
   },
   "outputs": [],
   "source": [
    "all_eng_words=set()\n",
    "for eng in lines['English']:\n",
    "    for word in eng.split():\n",
    "        if word not in all_eng_words:\n",
    "            all_eng_words.add(word)\n",
    "\n",
    "all_mar_words=set()\n",
    "for mar in lines['Marathi']:\n",
    "    for word in mar.split():\n",
    "        if word not in all_mar_words:\n",
    "            all_mar_words.add(word)"
   ]
  },
  {
   "cell_type": "code",
   "execution_count": 9,
   "metadata": {
    "execution": {
     "iopub.execute_input": "2025-01-06T19:04:00.761910Z",
     "iopub.status.busy": "2025-01-06T19:04:00.761705Z",
     "iopub.status.idle": "2025-01-06T19:04:00.804383Z",
     "shell.execute_reply": "2025-01-06T19:04:00.803526Z",
     "shell.execute_reply.started": "2025-01-06T19:04:00.761892Z"
    }
   },
   "outputs": [
    {
     "data": {
      "text/html": [
       "<div>\n",
       "<style scoped>\n",
       "    .dataframe tbody tr th:only-of-type {\n",
       "        vertical-align: middle;\n",
       "    }\n",
       "\n",
       "    .dataframe tbody tr th {\n",
       "        vertical-align: top;\n",
       "    }\n",
       "\n",
       "    .dataframe thead th {\n",
       "        text-align: right;\n",
       "    }\n",
       "</style>\n",
       "<table border=\"1\" class=\"dataframe\">\n",
       "  <thead>\n",
       "    <tr style=\"text-align: right;\">\n",
       "      <th></th>\n",
       "      <th>English</th>\n",
       "      <th>Marathi</th>\n",
       "      <th>length_eng_sentence</th>\n",
       "      <th>length_mar_sentence</th>\n",
       "    </tr>\n",
       "  </thead>\n",
       "  <tbody>\n",
       "    <tr>\n",
       "      <th>17968</th>\n",
       "      <td>what a beautiful night</td>\n",
       "      <td>START_ काय सुंदर रात्र होती _END</td>\n",
       "      <td>4</td>\n",
       "      <td>6</td>\n",
       "    </tr>\n",
       "    <tr>\n",
       "      <th>5034</th>\n",
       "      <td>wheres the map</td>\n",
       "      <td>START_ नकाशा कुठेय _END</td>\n",
       "      <td>3</td>\n",
       "      <td>4</td>\n",
       "    </tr>\n",
       "    <tr>\n",
       "      <th>1697</th>\n",
       "      <td>unbelievable</td>\n",
       "      <td>START_ काहीही काय _END</td>\n",
       "      <td>1</td>\n",
       "      <td>4</td>\n",
       "    </tr>\n",
       "    <tr>\n",
       "      <th>17538</th>\n",
       "      <td>the classroom is empty</td>\n",
       "      <td>START_ वर्ग रिकामा आहे _END</td>\n",
       "      <td>4</td>\n",
       "      <td>5</td>\n",
       "    </tr>\n",
       "    <tr>\n",
       "      <th>37087</th>\n",
       "      <td>those who live by the sword die by the sword</td>\n",
       "      <td>START_ जे तलवारीने जगतात ते तलवारीनेच मरतात _END</td>\n",
       "      <td>10</td>\n",
       "      <td>8</td>\n",
       "    </tr>\n",
       "  </tbody>\n",
       "</table>\n",
       "</div>"
      ],
      "text/plain": [
       "                                            English  \\\n",
       "17968                        what a beautiful night   \n",
       "5034                                 wheres the map   \n",
       "1697                                   unbelievable   \n",
       "17538                        the classroom is empty   \n",
       "37087  those who live by the sword die by the sword   \n",
       "\n",
       "                                                Marathi  length_eng_sentence  \\\n",
       "17968                  START_ काय सुंदर रात्र होती _END                    4   \n",
       "5034                            START_ नकाशा कुठेय _END                    3   \n",
       "1697                             START_ काहीही काय _END                    1   \n",
       "17538                       START_ वर्ग रिकामा आहे _END                    4   \n",
       "37087  START_ जे तलवारीने जगतात ते तलवारीनेच मरतात _END                   10   \n",
       "\n",
       "       length_mar_sentence  \n",
       "17968                    6  \n",
       "5034                     4  \n",
       "1697                     4  \n",
       "17538                    5  \n",
       "37087                    8  "
      ]
     },
     "execution_count": 9,
     "metadata": {},
     "output_type": "execute_result"
    }
   ],
   "source": [
    "lines['length_eng_sentence']=lines['English'].apply(lambda x:len(x.split(\" \")))\n",
    "lines['length_mar_sentence']=lines['Marathi'].apply(lambda x:len(x.split(\" \")))\n",
    "\n",
    "lines.head()"
   ]
  },
  {
   "cell_type": "code",
   "execution_count": 10,
   "metadata": {
    "execution": {
     "iopub.execute_input": "2025-01-06T19:04:00.805777Z",
     "iopub.status.busy": "2025-01-06T19:04:00.805452Z",
     "iopub.status.idle": "2025-01-06T19:04:00.813074Z",
     "shell.execute_reply": "2025-01-06T19:04:00.812205Z",
     "shell.execute_reply.started": "2025-01-06T19:04:00.805743Z"
    }
   },
   "outputs": [
    {
     "data": {
      "text/plain": [
       "(1, 4)"
      ]
     },
     "execution_count": 10,
     "metadata": {},
     "output_type": "execute_result"
    }
   ],
   "source": [
    "lines[lines['length_eng_sentence']>30].shape"
   ]
  },
  {
   "cell_type": "code",
   "execution_count": 11,
   "metadata": {
    "execution": {
     "iopub.execute_input": "2025-01-06T19:04:00.814297Z",
     "iopub.status.busy": "2025-01-06T19:04:00.813986Z",
     "iopub.status.idle": "2025-01-06T19:04:00.832832Z",
     "shell.execute_reply": "2025-01-06T19:04:00.832260Z",
     "shell.execute_reply.started": "2025-01-06T19:04:00.814269Z"
    }
   },
   "outputs": [
    {
     "name": "stdout",
     "output_type": "stream",
     "text": [
      "maximum length of Marathi Sentence  20\n",
      "maximum length of English Sentence  19\n"
     ]
    }
   ],
   "source": [
    "lines=lines[lines['length_eng_sentence']<=20]\n",
    "lines=lines[lines['length_mar_sentence']<=20]\n",
    "\n",
    "print(\"maximum length of Marathi Sentence \",max(lines['length_mar_sentence']))\n",
    "print(\"maximum length of English Sentence \",max(lines['length_eng_sentence']))"
   ]
  },
  {
   "cell_type": "code",
   "execution_count": 12,
   "metadata": {
    "execution": {
     "iopub.execute_input": "2025-01-06T19:04:00.833810Z",
     "iopub.status.busy": "2025-01-06T19:04:00.833537Z",
     "iopub.status.idle": "2025-01-06T19:04:00.841048Z",
     "shell.execute_reply": "2025-01-06T19:04:00.840228Z",
     "shell.execute_reply.started": "2025-01-06T19:04:00.833784Z"
    }
   },
   "outputs": [],
   "source": [
    "max_length_src=max(lines['length_mar_sentence'])\n",
    "max_length_tar=max(lines['length_eng_sentence'])"
   ]
  },
  {
   "cell_type": "code",
   "execution_count": 13,
   "metadata": {
    "execution": {
     "iopub.execute_input": "2025-01-06T19:04:00.841895Z",
     "iopub.status.busy": "2025-01-06T19:04:00.841708Z",
     "iopub.status.idle": "2025-01-06T19:04:00.859241Z",
     "shell.execute_reply": "2025-01-06T19:04:00.858523Z",
     "shell.execute_reply.started": "2025-01-06T19:04:00.841878Z"
    }
   },
   "outputs": [
    {
     "data": {
      "text/plain": [
       "(4778, 10853)"
      ]
     },
     "execution_count": 13,
     "metadata": {},
     "output_type": "execute_result"
    }
   ],
   "source": [
    "input_words = sorted(list(all_eng_words))\n",
    "target_words = sorted(list(all_mar_words))\n",
    "num_encoder_tokens = len(all_eng_words)\n",
    "num_decoder_tokens = len(all_mar_words)\n",
    "num_encoder_tokens, num_decoder_tokens"
   ]
  },
  {
   "cell_type": "code",
   "execution_count": 14,
   "metadata": {
    "execution": {
     "iopub.execute_input": "2025-01-06T19:04:00.860272Z",
     "iopub.status.busy": "2025-01-06T19:04:00.859970Z",
     "iopub.status.idle": "2025-01-06T19:04:00.884680Z",
     "shell.execute_reply": "2025-01-06T19:04:00.884069Z",
     "shell.execute_reply.started": "2025-01-06T19:04:00.860245Z"
    }
   },
   "outputs": [
    {
     "data": {
      "text/html": [
       "<div>\n",
       "<style scoped>\n",
       "    .dataframe tbody tr th:only-of-type {\n",
       "        vertical-align: middle;\n",
       "    }\n",
       "\n",
       "    .dataframe tbody tr th {\n",
       "        vertical-align: top;\n",
       "    }\n",
       "\n",
       "    .dataframe thead th {\n",
       "        text-align: right;\n",
       "    }\n",
       "</style>\n",
       "<table border=\"1\" class=\"dataframe\">\n",
       "  <thead>\n",
       "    <tr style=\"text-align: right;\">\n",
       "      <th></th>\n",
       "      <th>English</th>\n",
       "      <th>Marathi</th>\n",
       "      <th>length_eng_sentence</th>\n",
       "      <th>length_mar_sentence</th>\n",
       "    </tr>\n",
       "  </thead>\n",
       "  <tbody>\n",
       "    <tr>\n",
       "      <th>20826</th>\n",
       "      <td>let me take a look at it</td>\n",
       "      <td>START_ मला बघू द्या _END</td>\n",
       "      <td>7</td>\n",
       "      <td>5</td>\n",
       "    </tr>\n",
       "    <tr>\n",
       "      <th>7150</th>\n",
       "      <td>i like my friends</td>\n",
       "      <td>START_ मला माझ्या मैत्रिणी आवडतात _END</td>\n",
       "      <td>4</td>\n",
       "      <td>6</td>\n",
       "    </tr>\n",
       "    <tr>\n",
       "      <th>33292</th>\n",
       "      <td>i went to disneyland with my mother</td>\n",
       "      <td>START_ मी आईबरोबर डिज्नीलँडला गेले _END</td>\n",
       "      <td>7</td>\n",
       "      <td>6</td>\n",
       "    </tr>\n",
       "    <tr>\n",
       "      <th>35867</th>\n",
       "      <td>let me know in advance if you are coming</td>\n",
       "      <td>START_ येणार असशील तर मला आधीच कळव _END</td>\n",
       "      <td>9</td>\n",
       "      <td>8</td>\n",
       "    </tr>\n",
       "    <tr>\n",
       "      <th>35341</th>\n",
       "      <td>herbert hoover won the election of</td>\n",
       "      <td>START_ हर्बर्ट हूव्हर ची निवडणूक जिंकला _END</td>\n",
       "      <td>6</td>\n",
       "      <td>7</td>\n",
       "    </tr>\n",
       "    <tr>\n",
       "      <th>34569</th>\n",
       "      <td>their names were erased from the list</td>\n",
       "      <td>START_ त्यांची नावं यादीतून पुसून टाकण्यात आली...</td>\n",
       "      <td>7</td>\n",
       "      <td>8</td>\n",
       "    </tr>\n",
       "    <tr>\n",
       "      <th>32486</th>\n",
       "      <td>hey what are you doing in my room</td>\n",
       "      <td>START_ अरे तुम्ही माझ्या खोलीत काय करताहात _END</td>\n",
       "      <td>8</td>\n",
       "      <td>8</td>\n",
       "    </tr>\n",
       "    <tr>\n",
       "      <th>7112</th>\n",
       "      <td>i have many discs</td>\n",
       "      <td>START_ माझ्याकडे भरपूर डिस्क आहेत _END</td>\n",
       "      <td>4</td>\n",
       "      <td>6</td>\n",
       "    </tr>\n",
       "    <tr>\n",
       "      <th>15661</th>\n",
       "      <td>the party was my idea</td>\n",
       "      <td>START_ पार्टीची आयडिया माझी होती _END</td>\n",
       "      <td>5</td>\n",
       "      <td>6</td>\n",
       "    </tr>\n",
       "    <tr>\n",
       "      <th>36337</th>\n",
       "      <td>we shouldve bought three bottles of wine</td>\n",
       "      <td>START_ आपण वाईनच्या तीन बाटल्या आणायला हव्या ह...</td>\n",
       "      <td>7</td>\n",
       "      <td>9</td>\n",
       "    </tr>\n",
       "  </tbody>\n",
       "</table>\n",
       "</div>"
      ],
      "text/plain": [
       "                                        English  \\\n",
       "20826                  let me take a look at it   \n",
       "7150                          i like my friends   \n",
       "33292       i went to disneyland with my mother   \n",
       "35867  let me know in advance if you are coming   \n",
       "35341        herbert hoover won the election of   \n",
       "34569     their names were erased from the list   \n",
       "32486         hey what are you doing in my room   \n",
       "7112                          i have many discs   \n",
       "15661                     the party was my idea   \n",
       "36337  we shouldve bought three bottles of wine   \n",
       "\n",
       "                                                 Marathi  length_eng_sentence  \\\n",
       "20826                           START_ मला बघू द्या _END                    7   \n",
       "7150              START_ मला माझ्या मैत्रिणी आवडतात _END                    4   \n",
       "33292            START_ मी आईबरोबर डिज्नीलँडला गेले _END                    7   \n",
       "35867            START_ येणार असशील तर मला आधीच कळव _END                    9   \n",
       "35341       START_ हर्बर्ट हूव्हर ची निवडणूक जिंकला _END                    6   \n",
       "34569  START_ त्यांची नावं यादीतून पुसून टाकण्यात आली...                    7   \n",
       "32486    START_ अरे तुम्ही माझ्या खोलीत काय करताहात _END                    8   \n",
       "7112              START_ माझ्याकडे भरपूर डिस्क आहेत _END                    4   \n",
       "15661              START_ पार्टीची आयडिया माझी होती _END                    5   \n",
       "36337  START_ आपण वाईनच्या तीन बाटल्या आणायला हव्या ह...                    7   \n",
       "\n",
       "       length_mar_sentence  \n",
       "20826                    5  \n",
       "7150                     6  \n",
       "33292                    6  \n",
       "35867                    8  \n",
       "35341                    7  \n",
       "34569                    8  \n",
       "32486                    8  \n",
       "7112                     6  \n",
       "15661                    6  \n",
       "36337                    9  "
      ]
     },
     "execution_count": 14,
     "metadata": {},
     "output_type": "execute_result"
    }
   ],
   "source": [
    "num_decoder_tokens += 1\n",
    "num_encoder_tokens += 1 \n",
    "input_token_index = dict([(word, i+1) for i, word in enumerate(input_words)])\n",
    "target_token_index = dict([(word, i+1) for i, word in enumerate(target_words)])\n",
    "reverse_input_char_index = dict((i, word) for word, i in input_token_index.items())\n",
    "reverse_target_char_index = dict((i, word) for word, i in target_token_index.items())\n",
    "lines = shuffle(lines)\n",
    "lines.head(10)"
   ]
  },
  {
   "cell_type": "code",
   "execution_count": 15,
   "metadata": {
    "execution": {
     "iopub.execute_input": "2025-01-06T19:04:00.885769Z",
     "iopub.status.busy": "2025-01-06T19:04:00.885480Z",
     "iopub.status.idle": "2025-01-06T19:04:00.894677Z",
     "shell.execute_reply": "2025-01-06T19:04:00.894053Z",
     "shell.execute_reply.started": "2025-01-06T19:04:00.885737Z"
    }
   },
   "outputs": [
    {
     "data": {
      "text/plain": [
       "((19994,), (4999,))"
      ]
     },
     "execution_count": 15,
     "metadata": {},
     "output_type": "execute_result"
    }
   ],
   "source": [
    "X, y = lines['English'], lines['Marathi']\n",
    "X_train, X_test, y_train, y_test = train_test_split(X, y, test_size = 0.2,random_state=42)\n",
    "X_train.shape, X_test.shape"
   ]
  },
  {
   "cell_type": "code",
   "execution_count": 16,
   "metadata": {
    "execution": {
     "iopub.execute_input": "2025-01-06T19:04:00.895694Z",
     "iopub.status.busy": "2025-01-06T19:04:00.895425Z",
     "iopub.status.idle": "2025-01-06T19:04:00.906318Z",
     "shell.execute_reply": "2025-01-06T19:04:00.905417Z",
     "shell.execute_reply.started": "2025-01-06T19:04:00.895663Z"
    }
   },
   "outputs": [],
   "source": [
    "X_train.to_pickle('X_train.pkl')\n",
    "X_test.to_pickle('X_test.pkl')"
   ]
  },
  {
   "cell_type": "code",
   "execution_count": 17,
   "metadata": {
    "execution": {
     "iopub.execute_input": "2025-01-06T19:04:00.907447Z",
     "iopub.status.busy": "2025-01-06T19:04:00.907150Z",
     "iopub.status.idle": "2025-01-06T19:04:00.913263Z",
     "shell.execute_reply": "2025-01-06T19:04:00.912378Z",
     "shell.execute_reply.started": "2025-01-06T19:04:00.907417Z"
    }
   },
   "outputs": [],
   "source": [
    "def generate_batch(X = X_train, y = y_train, batch_size = 128):\n",
    "    while True:\n",
    "        for j in range(0, len(X), batch_size):\n",
    "            encoder_input_data = np.zeros((batch_size, max_length_src),dtype='float32')\n",
    "            decoder_input_data = np.zeros((batch_size, max_length_tar),dtype='float32')\n",
    "            decoder_target_data = np.zeros((batch_size, max_length_tar, num_decoder_tokens),dtype='float32')\n",
    "            for i, (input_text, target_text) in enumerate(zip(X[j:j+batch_size], y[j:j+batch_size])):\n",
    "                for t, word in enumerate(input_text.split()):\n",
    "                    encoder_input_data[i, t] = input_token_index[word] # encoder input seq\n",
    "                for t, word in enumerate(target_text.split()):\n",
    "                    if t<len(target_text.split())-1:\n",
    "                        decoder_input_data[i, t] = target_token_index[word] # decoder input seq\n",
    "                    if t>0:\n",
    "                        decoder_target_data[i, t - 1, target_token_index[word]] = 1.\n",
    "            yield((encoder_input_data, decoder_input_data), decoder_target_data)"
   ]
  },
  {
   "cell_type": "code",
   "execution_count": 18,
   "metadata": {
    "execution": {
     "iopub.execute_input": "2025-01-06T19:04:00.914387Z",
     "iopub.status.busy": "2025-01-06T19:04:00.914106Z",
     "iopub.status.idle": "2025-01-06T19:04:02.202080Z",
     "shell.execute_reply": "2025-01-06T19:04:02.201333Z",
     "shell.execute_reply.started": "2025-01-06T19:04:00.914357Z"
    }
   },
   "outputs": [],
   "source": [
    "latent_dim=300\n",
    "encoder_inputs = Input(shape=(None,))\n",
    "enc_emb =  Embedding(num_encoder_tokens, latent_dim, mask_zero = True)(encoder_inputs)\n",
    "encoder_lstm = LSTM(latent_dim, return_state=True, use_cudnn=False)\n",
    "\n",
    "encoder_outputs, state_h, state_c = encoder_lstm(enc_emb)\n",
    "encoder_states = [state_h, state_c]"
   ]
  },
  {
   "cell_type": "code",
   "execution_count": 19,
   "metadata": {
    "execution": {
     "iopub.execute_input": "2025-01-06T19:04:02.204052Z",
     "iopub.status.busy": "2025-01-06T19:04:02.203803Z",
     "iopub.status.idle": "2025-01-06T19:04:02.277306Z",
     "shell.execute_reply": "2025-01-06T19:04:02.276449Z",
     "shell.execute_reply.started": "2025-01-06T19:04:02.204030Z"
    }
   },
   "outputs": [],
   "source": [
    "decoder_inputs = Input(shape=(None,))\n",
    "dec_emb_layer = Embedding(num_decoder_tokens, latent_dim, mask_zero = True)\n",
    "dec_emb = dec_emb_layer(decoder_inputs)\n",
    "decoder_lstm = LSTM(latent_dim, return_sequences=True, return_state=True, use_cudnn=False)\n",
    "decoder_outputs, _, _ = decoder_lstm(dec_emb,\n",
    "                                     initial_state=encoder_states)\n",
    "decoder_dense = Dense(num_decoder_tokens, activation='softmax')\n",
    "decoder_outputs = decoder_dense(decoder_outputs)\n",
    "\n",
    "model = Model([encoder_inputs, decoder_inputs], decoder_outputs)\n",
    "model.compile(optimizer='rmsprop', loss='categorical_crossentropy')"
   ]
  },
  {
   "cell_type": "code",
   "execution_count": 20,
   "metadata": {
    "execution": {
     "iopub.execute_input": "2025-01-06T19:04:02.278721Z",
     "iopub.status.busy": "2025-01-06T19:04:02.278415Z",
     "iopub.status.idle": "2025-01-06T19:04:02.298871Z",
     "shell.execute_reply": "2025-01-06T19:04:02.298302Z",
     "shell.execute_reply.started": "2025-01-06T19:04:02.278691Z"
    }
   },
   "outputs": [
    {
     "data": {
      "text/html": [
       "<pre style=\"white-space:pre;overflow-x:auto;line-height:normal;font-family:Menlo,'DejaVu Sans Mono',consolas,'Courier New',monospace\"><span style=\"font-weight: bold\">Model: \"functional\"</span>\n",
       "</pre>\n"
      ],
      "text/plain": [
       "\u001b[1mModel: \"functional\"\u001b[0m\n"
      ]
     },
     "metadata": {},
     "output_type": "display_data"
    },
    {
     "data": {
      "text/html": [
       "<pre style=\"white-space:pre;overflow-x:auto;line-height:normal;font-family:Menlo,'DejaVu Sans Mono',consolas,'Courier New',monospace\">┏━━━━━━━━━━━━━━━━━━━━━━━━━━━┳━━━━━━━━━━━━━━━━━━━━━━━━┳━━━━━━━━━━━━━━━━┳━━━━━━━━━━━━━━━━━━━━━━━━┓\n",
       "┃<span style=\"font-weight: bold\"> Layer (type)              </span>┃<span style=\"font-weight: bold\"> Output Shape           </span>┃<span style=\"font-weight: bold\">        Param # </span>┃<span style=\"font-weight: bold\"> Connected to           </span>┃\n",
       "┡━━━━━━━━━━━━━━━━━━━━━━━━━━━╇━━━━━━━━━━━━━━━━━━━━━━━━╇━━━━━━━━━━━━━━━━╇━━━━━━━━━━━━━━━━━━━━━━━━┩\n",
       "│ input_layer (<span style=\"color: #0087ff; text-decoration-color: #0087ff\">InputLayer</span>)  │ (<span style=\"color: #00d7ff; text-decoration-color: #00d7ff\">None</span>, <span style=\"color: #00d7ff; text-decoration-color: #00d7ff\">None</span>)           │              <span style=\"color: #00af00; text-decoration-color: #00af00\">0</span> │ -                      │\n",
       "├───────────────────────────┼────────────────────────┼────────────────┼────────────────────────┤\n",
       "│ input_layer_1             │ (<span style=\"color: #00d7ff; text-decoration-color: #00d7ff\">None</span>, <span style=\"color: #00d7ff; text-decoration-color: #00d7ff\">None</span>)           │              <span style=\"color: #00af00; text-decoration-color: #00af00\">0</span> │ -                      │\n",
       "│ (<span style=\"color: #0087ff; text-decoration-color: #0087ff\">InputLayer</span>)              │                        │                │                        │\n",
       "├───────────────────────────┼────────────────────────┼────────────────┼────────────────────────┤\n",
       "│ embedding (<span style=\"color: #0087ff; text-decoration-color: #0087ff\">Embedding</span>)     │ (<span style=\"color: #00d7ff; text-decoration-color: #00d7ff\">None</span>, <span style=\"color: #00d7ff; text-decoration-color: #00d7ff\">None</span>, <span style=\"color: #00af00; text-decoration-color: #00af00\">300</span>)      │      <span style=\"color: #00af00; text-decoration-color: #00af00\">1,433,700</span> │ input_layer[<span style=\"color: #00af00; text-decoration-color: #00af00\">0</span>][<span style=\"color: #00af00; text-decoration-color: #00af00\">0</span>]      │\n",
       "├───────────────────────────┼────────────────────────┼────────────────┼────────────────────────┤\n",
       "│ not_equal (<span style=\"color: #0087ff; text-decoration-color: #0087ff\">NotEqual</span>)      │ (<span style=\"color: #00d7ff; text-decoration-color: #00d7ff\">None</span>, <span style=\"color: #00d7ff; text-decoration-color: #00d7ff\">None</span>)           │              <span style=\"color: #00af00; text-decoration-color: #00af00\">0</span> │ input_layer[<span style=\"color: #00af00; text-decoration-color: #00af00\">0</span>][<span style=\"color: #00af00; text-decoration-color: #00af00\">0</span>]      │\n",
       "├───────────────────────────┼────────────────────────┼────────────────┼────────────────────────┤\n",
       "│ embedding_1 (<span style=\"color: #0087ff; text-decoration-color: #0087ff\">Embedding</span>)   │ (<span style=\"color: #00d7ff; text-decoration-color: #00d7ff\">None</span>, <span style=\"color: #00d7ff; text-decoration-color: #00d7ff\">None</span>, <span style=\"color: #00af00; text-decoration-color: #00af00\">300</span>)      │      <span style=\"color: #00af00; text-decoration-color: #00af00\">3,256,200</span> │ input_layer_1[<span style=\"color: #00af00; text-decoration-color: #00af00\">0</span>][<span style=\"color: #00af00; text-decoration-color: #00af00\">0</span>]    │\n",
       "├───────────────────────────┼────────────────────────┼────────────────┼────────────────────────┤\n",
       "│ lstm (<span style=\"color: #0087ff; text-decoration-color: #0087ff\">LSTM</span>)               │ [(<span style=\"color: #00d7ff; text-decoration-color: #00d7ff\">None</span>, <span style=\"color: #00af00; text-decoration-color: #00af00\">300</span>), (<span style=\"color: #00d7ff; text-decoration-color: #00d7ff\">None</span>,   │        <span style=\"color: #00af00; text-decoration-color: #00af00\">721,200</span> │ embedding[<span style=\"color: #00af00; text-decoration-color: #00af00\">0</span>][<span style=\"color: #00af00; text-decoration-color: #00af00\">0</span>],       │\n",
       "│                           │ <span style=\"color: #00af00; text-decoration-color: #00af00\">300</span>), (<span style=\"color: #00d7ff; text-decoration-color: #00d7ff\">None</span>, <span style=\"color: #00af00; text-decoration-color: #00af00\">300</span>)]     │                │ not_equal[<span style=\"color: #00af00; text-decoration-color: #00af00\">0</span>][<span style=\"color: #00af00; text-decoration-color: #00af00\">0</span>]        │\n",
       "├───────────────────────────┼────────────────────────┼────────────────┼────────────────────────┤\n",
       "│ lstm_1 (<span style=\"color: #0087ff; text-decoration-color: #0087ff\">LSTM</span>)             │ [(<span style=\"color: #00d7ff; text-decoration-color: #00d7ff\">None</span>, <span style=\"color: #00d7ff; text-decoration-color: #00d7ff\">None</span>, <span style=\"color: #00af00; text-decoration-color: #00af00\">300</span>),    │        <span style=\"color: #00af00; text-decoration-color: #00af00\">721,200</span> │ embedding_1[<span style=\"color: #00af00; text-decoration-color: #00af00\">0</span>][<span style=\"color: #00af00; text-decoration-color: #00af00\">0</span>],     │\n",
       "│                           │ (<span style=\"color: #00d7ff; text-decoration-color: #00d7ff\">None</span>, <span style=\"color: #00af00; text-decoration-color: #00af00\">300</span>), (<span style=\"color: #00d7ff; text-decoration-color: #00d7ff\">None</span>,    │                │ lstm[<span style=\"color: #00af00; text-decoration-color: #00af00\">0</span>][<span style=\"color: #00af00; text-decoration-color: #00af00\">1</span>], lstm[<span style=\"color: #00af00; text-decoration-color: #00af00\">0</span>][<span style=\"color: #00af00; text-decoration-color: #00af00\">2</span>] │\n",
       "│                           │ <span style=\"color: #00af00; text-decoration-color: #00af00\">300</span>)]                  │                │                        │\n",
       "├───────────────────────────┼────────────────────────┼────────────────┼────────────────────────┤\n",
       "│ dense (<span style=\"color: #0087ff; text-decoration-color: #0087ff\">Dense</span>)             │ (<span style=\"color: #00d7ff; text-decoration-color: #00d7ff\">None</span>, <span style=\"color: #00d7ff; text-decoration-color: #00d7ff\">None</span>, <span style=\"color: #00af00; text-decoration-color: #00af00\">10854</span>)    │      <span style=\"color: #00af00; text-decoration-color: #00af00\">3,267,054</span> │ lstm_1[<span style=\"color: #00af00; text-decoration-color: #00af00\">0</span>][<span style=\"color: #00af00; text-decoration-color: #00af00\">0</span>]           │\n",
       "└───────────────────────────┴────────────────────────┴────────────────┴────────────────────────┘\n",
       "</pre>\n"
      ],
      "text/plain": [
       "┏━━━━━━━━━━━━━━━━━━━━━━━━━━━┳━━━━━━━━━━━━━━━━━━━━━━━━┳━━━━━━━━━━━━━━━━┳━━━━━━━━━━━━━━━━━━━━━━━━┓\n",
       "┃\u001b[1m \u001b[0m\u001b[1mLayer (type)             \u001b[0m\u001b[1m \u001b[0m┃\u001b[1m \u001b[0m\u001b[1mOutput Shape          \u001b[0m\u001b[1m \u001b[0m┃\u001b[1m \u001b[0m\u001b[1m       Param #\u001b[0m\u001b[1m \u001b[0m┃\u001b[1m \u001b[0m\u001b[1mConnected to          \u001b[0m\u001b[1m \u001b[0m┃\n",
       "┡━━━━━━━━━━━━━━━━━━━━━━━━━━━╇━━━━━━━━━━━━━━━━━━━━━━━━╇━━━━━━━━━━━━━━━━╇━━━━━━━━━━━━━━━━━━━━━━━━┩\n",
       "│ input_layer (\u001b[38;5;33mInputLayer\u001b[0m)  │ (\u001b[38;5;45mNone\u001b[0m, \u001b[38;5;45mNone\u001b[0m)           │              \u001b[38;5;34m0\u001b[0m │ -                      │\n",
       "├───────────────────────────┼────────────────────────┼────────────────┼────────────────────────┤\n",
       "│ input_layer_1             │ (\u001b[38;5;45mNone\u001b[0m, \u001b[38;5;45mNone\u001b[0m)           │              \u001b[38;5;34m0\u001b[0m │ -                      │\n",
       "│ (\u001b[38;5;33mInputLayer\u001b[0m)              │                        │                │                        │\n",
       "├───────────────────────────┼────────────────────────┼────────────────┼────────────────────────┤\n",
       "│ embedding (\u001b[38;5;33mEmbedding\u001b[0m)     │ (\u001b[38;5;45mNone\u001b[0m, \u001b[38;5;45mNone\u001b[0m, \u001b[38;5;34m300\u001b[0m)      │      \u001b[38;5;34m1,433,700\u001b[0m │ input_layer[\u001b[38;5;34m0\u001b[0m][\u001b[38;5;34m0\u001b[0m]      │\n",
       "├───────────────────────────┼────────────────────────┼────────────────┼────────────────────────┤\n",
       "│ not_equal (\u001b[38;5;33mNotEqual\u001b[0m)      │ (\u001b[38;5;45mNone\u001b[0m, \u001b[38;5;45mNone\u001b[0m)           │              \u001b[38;5;34m0\u001b[0m │ input_layer[\u001b[38;5;34m0\u001b[0m][\u001b[38;5;34m0\u001b[0m]      │\n",
       "├───────────────────────────┼────────────────────────┼────────────────┼────────────────────────┤\n",
       "│ embedding_1 (\u001b[38;5;33mEmbedding\u001b[0m)   │ (\u001b[38;5;45mNone\u001b[0m, \u001b[38;5;45mNone\u001b[0m, \u001b[38;5;34m300\u001b[0m)      │      \u001b[38;5;34m3,256,200\u001b[0m │ input_layer_1[\u001b[38;5;34m0\u001b[0m][\u001b[38;5;34m0\u001b[0m]    │\n",
       "├───────────────────────────┼────────────────────────┼────────────────┼────────────────────────┤\n",
       "│ lstm (\u001b[38;5;33mLSTM\u001b[0m)               │ [(\u001b[38;5;45mNone\u001b[0m, \u001b[38;5;34m300\u001b[0m), (\u001b[38;5;45mNone\u001b[0m,   │        \u001b[38;5;34m721,200\u001b[0m │ embedding[\u001b[38;5;34m0\u001b[0m][\u001b[38;5;34m0\u001b[0m],       │\n",
       "│                           │ \u001b[38;5;34m300\u001b[0m), (\u001b[38;5;45mNone\u001b[0m, \u001b[38;5;34m300\u001b[0m)]     │                │ not_equal[\u001b[38;5;34m0\u001b[0m][\u001b[38;5;34m0\u001b[0m]        │\n",
       "├───────────────────────────┼────────────────────────┼────────────────┼────────────────────────┤\n",
       "│ lstm_1 (\u001b[38;5;33mLSTM\u001b[0m)             │ [(\u001b[38;5;45mNone\u001b[0m, \u001b[38;5;45mNone\u001b[0m, \u001b[38;5;34m300\u001b[0m),    │        \u001b[38;5;34m721,200\u001b[0m │ embedding_1[\u001b[38;5;34m0\u001b[0m][\u001b[38;5;34m0\u001b[0m],     │\n",
       "│                           │ (\u001b[38;5;45mNone\u001b[0m, \u001b[38;5;34m300\u001b[0m), (\u001b[38;5;45mNone\u001b[0m,    │                │ lstm[\u001b[38;5;34m0\u001b[0m][\u001b[38;5;34m1\u001b[0m], lstm[\u001b[38;5;34m0\u001b[0m][\u001b[38;5;34m2\u001b[0m] │\n",
       "│                           │ \u001b[38;5;34m300\u001b[0m)]                  │                │                        │\n",
       "├───────────────────────────┼────────────────────────┼────────────────┼────────────────────────┤\n",
       "│ dense (\u001b[38;5;33mDense\u001b[0m)             │ (\u001b[38;5;45mNone\u001b[0m, \u001b[38;5;45mNone\u001b[0m, \u001b[38;5;34m10854\u001b[0m)    │      \u001b[38;5;34m3,267,054\u001b[0m │ lstm_1[\u001b[38;5;34m0\u001b[0m][\u001b[38;5;34m0\u001b[0m]           │\n",
       "└───────────────────────────┴────────────────────────┴────────────────┴────────────────────────┘\n"
      ]
     },
     "metadata": {},
     "output_type": "display_data"
    },
    {
     "data": {
      "text/html": [
       "<pre style=\"white-space:pre;overflow-x:auto;line-height:normal;font-family:Menlo,'DejaVu Sans Mono',consolas,'Courier New',monospace\"><span style=\"font-weight: bold\"> Total params: </span><span style=\"color: #00af00; text-decoration-color: #00af00\">9,399,354</span> (35.86 MB)\n",
       "</pre>\n"
      ],
      "text/plain": [
       "\u001b[1m Total params: \u001b[0m\u001b[38;5;34m9,399,354\u001b[0m (35.86 MB)\n"
      ]
     },
     "metadata": {},
     "output_type": "display_data"
    },
    {
     "data": {
      "text/html": [
       "<pre style=\"white-space:pre;overflow-x:auto;line-height:normal;font-family:Menlo,'DejaVu Sans Mono',consolas,'Courier New',monospace\"><span style=\"font-weight: bold\"> Trainable params: </span><span style=\"color: #00af00; text-decoration-color: #00af00\">9,399,354</span> (35.86 MB)\n",
       "</pre>\n"
      ],
      "text/plain": [
       "\u001b[1m Trainable params: \u001b[0m\u001b[38;5;34m9,399,354\u001b[0m (35.86 MB)\n"
      ]
     },
     "metadata": {},
     "output_type": "display_data"
    },
    {
     "data": {
      "text/html": [
       "<pre style=\"white-space:pre;overflow-x:auto;line-height:normal;font-family:Menlo,'DejaVu Sans Mono',consolas,'Courier New',monospace\"><span style=\"font-weight: bold\"> Non-trainable params: </span><span style=\"color: #00af00; text-decoration-color: #00af00\">0</span> (0.00 B)\n",
       "</pre>\n"
      ],
      "text/plain": [
       "\u001b[1m Non-trainable params: \u001b[0m\u001b[38;5;34m0\u001b[0m (0.00 B)\n"
      ]
     },
     "metadata": {},
     "output_type": "display_data"
    }
   ],
   "source": [
    "model.summary()"
   ]
  },
  {
   "cell_type": "code",
   "execution_count": 21,
   "metadata": {
    "execution": {
     "iopub.execute_input": "2025-01-06T19:04:04.889591Z",
     "iopub.status.busy": "2025-01-06T19:04:04.889309Z",
     "iopub.status.idle": "2025-01-06T19:25:52.644424Z",
     "shell.execute_reply": "2025-01-06T19:25:52.643669Z",
     "shell.execute_reply.started": "2025-01-06T19:04:04.889569Z"
    }
   },
   "outputs": [
    {
     "name": "stdout",
     "output_type": "stream",
     "text": [
      "Epoch 1/50\n",
      "\u001b[1m156/156\u001b[0m \u001b[32m━━━━━━━━━━━━━━━━━━━━\u001b[0m\u001b[37m\u001b[0m \u001b[1m34s\u001b[0m 176ms/step - loss: 7.4576 - val_loss: 5.8037\n",
      "Epoch 2/50\n",
      "\u001b[1m156/156\u001b[0m \u001b[32m━━━━━━━━━━━━━━━━━━━━\u001b[0m\u001b[37m\u001b[0m \u001b[1m26s\u001b[0m 167ms/step - loss: 5.7387 - val_loss: 5.6807\n",
      "Epoch 3/50\n",
      "\u001b[1m156/156\u001b[0m \u001b[32m━━━━━━━━━━━━━━━━━━━━\u001b[0m\u001b[37m\u001b[0m \u001b[1m26s\u001b[0m 165ms/step - loss: 5.6300 - val_loss: 5.6219\n",
      "Epoch 4/50\n",
      "\u001b[1m156/156\u001b[0m \u001b[32m━━━━━━━━━━━━━━━━━━━━\u001b[0m\u001b[37m\u001b[0m \u001b[1m26s\u001b[0m 166ms/step - loss: 5.5465 - val_loss: 5.5289\n",
      "Epoch 5/50\n",
      "\u001b[1m156/156\u001b[0m \u001b[32m━━━━━━━━━━━━━━━━━━━━\u001b[0m\u001b[37m\u001b[0m \u001b[1m26s\u001b[0m 167ms/step - loss: 5.4313 - val_loss: 5.3919\n",
      "Epoch 6/50\n",
      "\u001b[1m156/156\u001b[0m \u001b[32m━━━━━━━━━━━━━━━━━━━━\u001b[0m\u001b[37m\u001b[0m \u001b[1m26s\u001b[0m 167ms/step - loss: 5.2943 - val_loss: 5.2803\n",
      "Epoch 7/50\n",
      "\u001b[1m156/156\u001b[0m \u001b[32m━━━━━━━━━━━━━━━━━━━━\u001b[0m\u001b[37m\u001b[0m \u001b[1m26s\u001b[0m 166ms/step - loss: 5.1467 - val_loss: 5.1257\n",
      "Epoch 8/50\n",
      "\u001b[1m156/156\u001b[0m \u001b[32m━━━━━━━━━━━━━━━━━━━━\u001b[0m\u001b[37m\u001b[0m \u001b[1m26s\u001b[0m 166ms/step - loss: 4.9881 - val_loss: 5.0083\n",
      "Epoch 9/50\n",
      "\u001b[1m156/156\u001b[0m \u001b[32m━━━━━━━━━━━━━━━━━━━━\u001b[0m\u001b[37m\u001b[0m \u001b[1m26s\u001b[0m 167ms/step - loss: 4.8357 - val_loss: 4.8885\n",
      "Epoch 10/50\n",
      "\u001b[1m156/156\u001b[0m \u001b[32m━━━━━━━━━━━━━━━━━━━━\u001b[0m\u001b[37m\u001b[0m \u001b[1m26s\u001b[0m 167ms/step - loss: 4.6871 - val_loss: 4.7618\n",
      "Epoch 11/50\n",
      "\u001b[1m156/156\u001b[0m \u001b[32m━━━━━━━━━━━━━━━━━━━━\u001b[0m\u001b[37m\u001b[0m \u001b[1m26s\u001b[0m 166ms/step - loss: 4.5424 - val_loss: 4.6612\n",
      "Epoch 12/50\n",
      "\u001b[1m156/156\u001b[0m \u001b[32m━━━━━━━━━━━━━━━━━━━━\u001b[0m\u001b[37m\u001b[0m \u001b[1m26s\u001b[0m 167ms/step - loss: 4.4037 - val_loss: 4.5501\n",
      "Epoch 13/50\n",
      "\u001b[1m156/156\u001b[0m \u001b[32m━━━━━━━━━━━━━━━━━━━━\u001b[0m\u001b[37m\u001b[0m \u001b[1m26s\u001b[0m 167ms/step - loss: 4.2609 - val_loss: 4.4252\n",
      "Epoch 14/50\n",
      "\u001b[1m156/156\u001b[0m \u001b[32m━━━━━━━━━━━━━━━━━━━━\u001b[0m\u001b[37m\u001b[0m \u001b[1m26s\u001b[0m 166ms/step - loss: 4.1210 - val_loss: 4.3389\n",
      "Epoch 15/50\n",
      "\u001b[1m156/156\u001b[0m \u001b[32m━━━━━━━━━━━━━━━━━━━━\u001b[0m\u001b[37m\u001b[0m \u001b[1m26s\u001b[0m 166ms/step - loss: 3.9888 - val_loss: 4.2459\n",
      "Epoch 16/50\n",
      "\u001b[1m156/156\u001b[0m \u001b[32m━━━━━━━━━━━━━━━━━━━━\u001b[0m\u001b[37m\u001b[0m \u001b[1m26s\u001b[0m 167ms/step - loss: 3.8604 - val_loss: 4.1357\n",
      "Epoch 17/50\n",
      "\u001b[1m156/156\u001b[0m \u001b[32m━━━━━━━━━━━━━━━━━━━━\u001b[0m\u001b[37m\u001b[0m \u001b[1m26s\u001b[0m 167ms/step - loss: 3.7287 - val_loss: 4.0545\n",
      "Epoch 18/50\n",
      "\u001b[1m156/156\u001b[0m \u001b[32m━━━━━━━━━━━━━━━━━━━━\u001b[0m\u001b[37m\u001b[0m \u001b[1m26s\u001b[0m 166ms/step - loss: 3.6056 - val_loss: 3.9748\n",
      "Epoch 19/50\n",
      "\u001b[1m156/156\u001b[0m \u001b[32m━━━━━━━━━━━━━━━━━━━━\u001b[0m\u001b[37m\u001b[0m \u001b[1m26s\u001b[0m 168ms/step - loss: 3.4862 - val_loss: 3.8943\n",
      "Epoch 20/50\n",
      "\u001b[1m156/156\u001b[0m \u001b[32m━━━━━━━━━━━━━━━━━━━━\u001b[0m\u001b[37m\u001b[0m \u001b[1m26s\u001b[0m 166ms/step - loss: 3.3690 - val_loss: 3.8135\n",
      "Epoch 21/50\n",
      "\u001b[1m156/156\u001b[0m \u001b[32m━━━━━━━━━━━━━━━━━━━━\u001b[0m\u001b[37m\u001b[0m \u001b[1m26s\u001b[0m 167ms/step - loss: 3.2654 - val_loss: 3.7474\n",
      "Epoch 22/50\n",
      "\u001b[1m156/156\u001b[0m \u001b[32m━━━━━━━━━━━━━━━━━━━━\u001b[0m\u001b[37m\u001b[0m \u001b[1m26s\u001b[0m 166ms/step - loss: 3.1508 - val_loss: 3.6845\n",
      "Epoch 23/50\n",
      "\u001b[1m156/156\u001b[0m \u001b[32m━━━━━━━━━━━━━━━━━━━━\u001b[0m\u001b[37m\u001b[0m \u001b[1m26s\u001b[0m 167ms/step - loss: 3.0401 - val_loss: 3.6483\n",
      "Epoch 24/50\n",
      "\u001b[1m156/156\u001b[0m \u001b[32m━━━━━━━━━━━━━━━━━━━━\u001b[0m\u001b[37m\u001b[0m \u001b[1m26s\u001b[0m 166ms/step - loss: 2.9425 - val_loss: 3.5626\n",
      "Epoch 25/50\n",
      "\u001b[1m156/156\u001b[0m \u001b[32m━━━━━━━━━━━━━━━━━━━━\u001b[0m\u001b[37m\u001b[0m \u001b[1m26s\u001b[0m 165ms/step - loss: 2.8446 - val_loss: 3.5235\n",
      "Epoch 26/50\n",
      "\u001b[1m156/156\u001b[0m \u001b[32m━━━━━━━━━━━━━━━━━━━━\u001b[0m\u001b[37m\u001b[0m \u001b[1m26s\u001b[0m 168ms/step - loss: 2.7454 - val_loss: 3.4698\n",
      "Epoch 27/50\n",
      "\u001b[1m156/156\u001b[0m \u001b[32m━━━━━━━━━━━━━━━━━━━━\u001b[0m\u001b[37m\u001b[0m \u001b[1m26s\u001b[0m 166ms/step - loss: 2.6532 - val_loss: 3.4158\n",
      "Epoch 28/50\n",
      "\u001b[1m156/156\u001b[0m \u001b[32m━━━━━━━━━━━━━━━━━━━━\u001b[0m\u001b[37m\u001b[0m \u001b[1m26s\u001b[0m 167ms/step - loss: 2.5609 - val_loss: 3.3856\n",
      "Epoch 29/50\n",
      "\u001b[1m156/156\u001b[0m \u001b[32m━━━━━━━━━━━━━━━━━━━━\u001b[0m\u001b[37m\u001b[0m \u001b[1m26s\u001b[0m 167ms/step - loss: 2.4726 - val_loss: 3.3493\n",
      "Epoch 30/50\n",
      "\u001b[1m156/156\u001b[0m \u001b[32m━━━━━━━━━━━━━━━━━━━━\u001b[0m\u001b[37m\u001b[0m \u001b[1m26s\u001b[0m 167ms/step - loss: 2.3959 - val_loss: 3.3060\n",
      "Epoch 31/50\n",
      "\u001b[1m156/156\u001b[0m \u001b[32m━━━━━━━━━━━━━━━━━━━━\u001b[0m\u001b[37m\u001b[0m \u001b[1m26s\u001b[0m 166ms/step - loss: 2.3269 - val_loss: 3.2603\n",
      "Epoch 32/50\n",
      "\u001b[1m156/156\u001b[0m \u001b[32m━━━━━━━━━━━━━━━━━━━━\u001b[0m\u001b[37m\u001b[0m \u001b[1m26s\u001b[0m 167ms/step - loss: 2.2455 - val_loss: 3.2230\n",
      "Epoch 33/50\n",
      "\u001b[1m156/156\u001b[0m \u001b[32m━━━━━━━━━━━━━━━━━━━━\u001b[0m\u001b[37m\u001b[0m \u001b[1m26s\u001b[0m 167ms/step - loss: 2.1660 - val_loss: 3.1876\n",
      "Epoch 34/50\n",
      "\u001b[1m156/156\u001b[0m \u001b[32m━━━━━━━━━━━━━━━━━━━━\u001b[0m\u001b[37m\u001b[0m \u001b[1m26s\u001b[0m 166ms/step - loss: 2.0985 - val_loss: 3.1540\n",
      "Epoch 35/50\n",
      "\u001b[1m156/156\u001b[0m \u001b[32m━━━━━━━━━━━━━━━━━━━━\u001b[0m\u001b[37m\u001b[0m \u001b[1m26s\u001b[0m 166ms/step - loss: 2.0176 - val_loss: 3.1237\n",
      "Epoch 36/50\n",
      "\u001b[1m156/156\u001b[0m \u001b[32m━━━━━━━━━━━━━━━━━━━━\u001b[0m\u001b[37m\u001b[0m \u001b[1m26s\u001b[0m 167ms/step - loss: 1.9452 - val_loss: 3.0945\n",
      "Epoch 37/50\n",
      "\u001b[1m156/156\u001b[0m \u001b[32m━━━━━━━━━━━━━━━━━━━━\u001b[0m\u001b[37m\u001b[0m \u001b[1m26s\u001b[0m 166ms/step - loss: 1.8744 - val_loss: 3.0689\n",
      "Epoch 38/50\n",
      "\u001b[1m156/156\u001b[0m \u001b[32m━━━━━━━━━━━━━━━━━━━━\u001b[0m\u001b[37m\u001b[0m \u001b[1m26s\u001b[0m 168ms/step - loss: 1.8052 - val_loss: 3.0446\n",
      "Epoch 39/50\n",
      "\u001b[1m156/156\u001b[0m \u001b[32m━━━━━━━━━━━━━━━━━━━━\u001b[0m\u001b[37m\u001b[0m \u001b[1m26s\u001b[0m 167ms/step - loss: 1.7458 - val_loss: 3.0383\n",
      "Epoch 40/50\n",
      "\u001b[1m156/156\u001b[0m \u001b[32m━━━━━━━━━━━━━━━━━━━━\u001b[0m\u001b[37m\u001b[0m \u001b[1m26s\u001b[0m 167ms/step - loss: 1.6916 - val_loss: 3.0146\n",
      "Epoch 41/50\n",
      "\u001b[1m156/156\u001b[0m \u001b[32m━━━━━━━━━━━━━━━━━━━━\u001b[0m\u001b[37m\u001b[0m \u001b[1m26s\u001b[0m 167ms/step - loss: 1.6339 - val_loss: 3.0048\n",
      "Epoch 42/50\n",
      "\u001b[1m156/156\u001b[0m \u001b[32m━━━━━━━━━━━━━━━━━━━━\u001b[0m\u001b[37m\u001b[0m \u001b[1m26s\u001b[0m 167ms/step - loss: 1.5706 - val_loss: 2.9704\n",
      "Epoch 43/50\n",
      "\u001b[1m156/156\u001b[0m \u001b[32m━━━━━━━━━━━━━━━━━━━━\u001b[0m\u001b[37m\u001b[0m \u001b[1m26s\u001b[0m 167ms/step - loss: 1.5151 - val_loss: 2.9589\n",
      "Epoch 44/50\n",
      "\u001b[1m156/156\u001b[0m \u001b[32m━━━━━━━━━━━━━━━━━━━━\u001b[0m\u001b[37m\u001b[0m \u001b[1m26s\u001b[0m 167ms/step - loss: 1.4603 - val_loss: 2.9466\n",
      "Epoch 45/50\n",
      "\u001b[1m156/156\u001b[0m \u001b[32m━━━━━━━━━━━━━━━━━━━━\u001b[0m\u001b[37m\u001b[0m \u001b[1m26s\u001b[0m 168ms/step - loss: 1.3971 - val_loss: 2.9226\n",
      "Epoch 46/50\n",
      "\u001b[1m156/156\u001b[0m \u001b[32m━━━━━━━━━━━━━━━━━━━━\u001b[0m\u001b[37m\u001b[0m \u001b[1m26s\u001b[0m 167ms/step - loss: 1.3521 - val_loss: 2.9122\n",
      "Epoch 47/50\n",
      "\u001b[1m156/156\u001b[0m \u001b[32m━━━━━━━━━━━━━━━━━━━━\u001b[0m\u001b[37m\u001b[0m \u001b[1m26s\u001b[0m 168ms/step - loss: 1.2992 - val_loss: 2.8991\n",
      "Epoch 48/50\n",
      "\u001b[1m156/156\u001b[0m \u001b[32m━━━━━━━━━━━━━━━━━━━━\u001b[0m\u001b[37m\u001b[0m \u001b[1m26s\u001b[0m 168ms/step - loss: 1.2508 - val_loss: 2.8958\n",
      "Epoch 49/50\n",
      "\u001b[1m156/156\u001b[0m \u001b[32m━━━━━━━━━━━━━━━━━━━━\u001b[0m\u001b[37m\u001b[0m \u001b[1m26s\u001b[0m 166ms/step - loss: 1.2033 - val_loss: 2.9019\n",
      "Epoch 50/50\n",
      "\u001b[1m156/156\u001b[0m \u001b[32m━━━━━━━━━━━━━━━━━━━━\u001b[0m\u001b[37m\u001b[0m \u001b[1m26s\u001b[0m 167ms/step - loss: 1.1587 - val_loss: 2.8863\n"
     ]
    },
    {
     "data": {
      "text/plain": [
       "<keras.src.callbacks.history.History at 0x7b305b61c820>"
      ]
     },
     "execution_count": 21,
     "metadata": {},
     "output_type": "execute_result"
    }
   ],
   "source": [
    "train_samples = len(X_train)\n",
    "val_samples = len(X_test)\n",
    "batch_size = 128\n",
    "epochs = 50\n",
    "model.fit(\n",
    "    x = generate_batch(X_train, y_train, batch_size = batch_size),\n",
    "    steps_per_epoch = train_samples//batch_size,\n",
    "    epochs=epochs,\n",
    "    validation_data = generate_batch(X_test, y_test, batch_size=batch_size),\n",
    "    validation_steps = val_samples//batch_size\n",
    ")"
   ]
  },
  {
   "cell_type": "code",
   "execution_count": 22,
   "metadata": {
    "execution": {
     "iopub.execute_input": "2025-01-06T19:26:00.070586Z",
     "iopub.status.busy": "2025-01-06T19:26:00.070305Z",
     "iopub.status.idle": "2025-01-06T19:26:00.082039Z",
     "shell.execute_reply": "2025-01-06T19:26:00.081316Z",
     "shell.execute_reply.started": "2025-01-06T19:26:00.070565Z"
    }
   },
   "outputs": [],
   "source": [
    "encoder_model = Model(encoder_inputs, encoder_states)\n",
    "\n",
    "decoder_state_input_h = Input(shape=(latent_dim,))\n",
    "decoder_state_input_c = Input(shape=(latent_dim,))\n",
    "decoder_states_inputs = [decoder_state_input_h, decoder_state_input_c]\n",
    "\n",
    "dec_emb2= dec_emb_layer(decoder_inputs)\n",
    "\n",
    "decoder_outputs2, state_h2, state_c2 = decoder_lstm(dec_emb2, initial_state=decoder_states_inputs)\n",
    "decoder_states2 = [state_h2, state_c2]\n",
    "decoder_outputs2 = decoder_dense(decoder_outputs2)\n",
    "\n",
    "# Final decoder model\n",
    "decoder_model = Model(\n",
    "    [decoder_inputs] + decoder_states_inputs,\n",
    "    [decoder_outputs2] + decoder_states2)"
   ]
  },
  {
   "cell_type": "code",
   "execution_count": 23,
   "metadata": {
    "execution": {
     "iopub.execute_input": "2025-01-06T19:26:01.529689Z",
     "iopub.status.busy": "2025-01-06T19:26:01.529407Z",
     "iopub.status.idle": "2025-01-06T19:26:01.535524Z",
     "shell.execute_reply": "2025-01-06T19:26:01.534405Z",
     "shell.execute_reply.started": "2025-01-06T19:26:01.529666Z"
    }
   },
   "outputs": [],
   "source": [
    "def decode_sequence(input_seq):\n",
    "    states_value = encoder_model.predict(input_seq)\n",
    "    \n",
    "    target_seq = np.zeros((1,1))\n",
    "    target_seq[0, 0] = target_token_index['START_']\n",
    "\n",
    "    stop_condition = False\n",
    "    decoded_sentence = ''\n",
    "    while not stop_condition:\n",
    "        output_tokens, h, c = decoder_model.predict([target_seq] + states_value)\n",
    "\n",
    "        sampled_token_index = np.argmax(output_tokens[0, -1, :])\n",
    "        sampled_char = reverse_target_char_index[sampled_token_index]\n",
    "        decoded_sentence += ' '+sampled_char\n",
    "\n",
    "        if (sampled_char == '_END' or\n",
    "           len(decoded_sentence) > 50):\n",
    "            stop_condition = True\n",
    "\n",
    "        target_seq = np.zeros((1,1))\n",
    "        target_seq[0, 0] = sampled_token_index\n",
    "\n",
    "        states_value = [h, c]\n",
    "\n",
    "\n",
    "    return decoded_sentence"
   ]
  },
  {
   "cell_type": "code",
   "execution_count": 29,
   "metadata": {
    "execution": {
     "iopub.execute_input": "2025-01-06T06:15:08.537123Z",
     "iopub.status.busy": "2025-01-06T06:15:08.536901Z",
     "iopub.status.idle": "2025-01-06T06:15:08.758764Z",
     "shell.execute_reply": "2025-01-06T06:15:08.757841Z",
     "shell.execute_reply.started": "2025-01-06T06:15:08.537104Z"
    }
   },
   "outputs": [],
   "source": [
    "model.save('translation_model.h5')"
   ]
  },
  {
   "cell_type": "code",
   "execution_count": 31,
   "metadata": {
    "execution": {
     "iopub.execute_input": "2025-01-06T19:41:59.155653Z",
     "iopub.status.busy": "2025-01-06T19:41:59.155356Z",
     "iopub.status.idle": "2025-01-06T19:42:48.001375Z",
     "shell.execute_reply": "2025-01-06T19:42:48.000442Z",
     "shell.execute_reply.started": "2025-01-06T19:41:59.155605Z"
    }
   },
   "outputs": [
    {
     "name": "stdout",
     "output_type": "stream",
     "text": [
      "\n",
      "Enter a sentence to translate or type '0' to exit:\n"
     ]
    },
    {
     "name": "stdout",
     "output_type": "stream",
     "text": [
      " i want to speak with you\n"
     ]
    },
    {
     "name": "stdout",
     "output_type": "stream",
     "text": [
      "\u001b[1m1/1\u001b[0m \u001b[32m━━━━━━━━━━━━━━━━━━━━\u001b[0m\u001b[37m\u001b[0m \u001b[1m0s\u001b[0m 17ms/step\n",
      "\u001b[1m1/1\u001b[0m \u001b[32m━━━━━━━━━━━━━━━━━━━━\u001b[0m\u001b[37m\u001b[0m \u001b[1m0s\u001b[0m 19ms/step\n",
      "\u001b[1m1/1\u001b[0m \u001b[32m━━━━━━━━━━━━━━━━━━━━\u001b[0m\u001b[37m\u001b[0m \u001b[1m0s\u001b[0m 17ms/step\n",
      "\u001b[1m1/1\u001b[0m \u001b[32m━━━━━━━━━━━━━━━━━━━━\u001b[0m\u001b[37m\u001b[0m \u001b[1m0s\u001b[0m 18ms/step\n",
      "\u001b[1m1/1\u001b[0m \u001b[32m━━━━━━━━━━━━━━━━━━━━\u001b[0m\u001b[37m\u001b[0m \u001b[1m0s\u001b[0m 18ms/step\n",
      "\u001b[1m1/1\u001b[0m \u001b[32m━━━━━━━━━━━━━━━━━━━━\u001b[0m\u001b[37m\u001b[0m \u001b[1m0s\u001b[0m 18ms/step\n",
      "Input Sentence: i want to speak with you\n",
      "Predicted Marathi Translation: मला तुझ्याशी बोलायचं आहे\n",
      "\n",
      "Enter a sentence to translate or type '0' to exit:\n"
     ]
    },
    {
     "name": "stdout",
     "output_type": "stream",
     "text": [
      " lets play the game\n"
     ]
    },
    {
     "name": "stdout",
     "output_type": "stream",
     "text": [
      "\u001b[1m1/1\u001b[0m \u001b[32m━━━━━━━━━━━━━━━━━━━━\u001b[0m\u001b[37m\u001b[0m \u001b[1m0s\u001b[0m 17ms/step\n",
      "\u001b[1m1/1\u001b[0m \u001b[32m━━━━━━━━━━━━━━━━━━━━\u001b[0m\u001b[37m\u001b[0m \u001b[1m0s\u001b[0m 18ms/step\n",
      "\u001b[1m1/1\u001b[0m \u001b[32m━━━━━━━━━━━━━━━━━━━━\u001b[0m\u001b[37m\u001b[0m \u001b[1m0s\u001b[0m 18ms/step\n",
      "\u001b[1m1/1\u001b[0m \u001b[32m━━━━━━━━━━━━━━━━━━━━\u001b[0m\u001b[37m\u001b[0m \u001b[1m0s\u001b[0m 17ms/step\n",
      "\u001b[1m1/1\u001b[0m \u001b[32m━━━━━━━━━━━━━━━━━━━━\u001b[0m\u001b[37m\u001b[0m \u001b[1m0s\u001b[0m 18ms/step\n",
      "Input Sentence: lets play the game\n",
      "Predicted Marathi Translation: खेळ खेळू या\n",
      "\n",
      "Enter a sentence to translate or type '0' to exit:\n"
     ]
    },
    {
     "name": "stdout",
     "output_type": "stream",
     "text": [
      " what a beautiful night\n"
     ]
    },
    {
     "name": "stdout",
     "output_type": "stream",
     "text": [
      "\u001b[1m1/1\u001b[0m \u001b[32m━━━━━━━━━━━━━━━━━━━━\u001b[0m\u001b[37m\u001b[0m \u001b[1m0s\u001b[0m 17ms/step\n",
      "\u001b[1m1/1\u001b[0m \u001b[32m━━━━━━━━━━━━━━━━━━━━\u001b[0m\u001b[37m\u001b[0m \u001b[1m0s\u001b[0m 17ms/step\n",
      "\u001b[1m1/1\u001b[0m \u001b[32m━━━━━━━━━━━━━━━━━━━━\u001b[0m\u001b[37m\u001b[0m \u001b[1m0s\u001b[0m 18ms/step\n",
      "\u001b[1m1/1\u001b[0m \u001b[32m━━━━━━━━━━━━━━━━━━━━\u001b[0m\u001b[37m\u001b[0m \u001b[1m0s\u001b[0m 17ms/step\n",
      "\u001b[1m1/1\u001b[0m \u001b[32m━━━━━━━━━━━━━━━━━━━━\u001b[0m\u001b[37m\u001b[0m \u001b[1m0s\u001b[0m 18ms/step\n",
      "\u001b[1m1/1\u001b[0m \u001b[32m━━━━━━━━━━━━━━━━━━━━\u001b[0m\u001b[37m\u001b[0m \u001b[1m0s\u001b[0m 17ms/step\n",
      "Input Sentence: what a beautiful night\n",
      "Predicted Marathi Translation: काय सुंदर रात्र होती\n",
      "\n",
      "Enter a sentence to translate or type '0' to exit:\n"
     ]
    },
    {
     "name": "stdout",
     "output_type": "stream",
     "text": [
      " turn off the tv\n"
     ]
    },
    {
     "name": "stdout",
     "output_type": "stream",
     "text": [
      "\u001b[1m1/1\u001b[0m \u001b[32m━━━━━━━━━━━━━━━━━━━━\u001b[0m\u001b[37m\u001b[0m \u001b[1m0s\u001b[0m 17ms/step\n",
      "\u001b[1m1/1\u001b[0m \u001b[32m━━━━━━━━━━━━━━━━━━━━\u001b[0m\u001b[37m\u001b[0m \u001b[1m0s\u001b[0m 17ms/step\n",
      "\u001b[1m1/1\u001b[0m \u001b[32m━━━━━━━━━━━━━━━━━━━━\u001b[0m\u001b[37m\u001b[0m \u001b[1m0s\u001b[0m 17ms/step\n",
      "\u001b[1m1/1\u001b[0m \u001b[32m━━━━━━━━━━━━━━━━━━━━\u001b[0m\u001b[37m\u001b[0m \u001b[1m0s\u001b[0m 18ms/step\n",
      "\u001b[1m1/1\u001b[0m \u001b[32m━━━━━━━━━━━━━━━━━━━━\u001b[0m\u001b[37m\u001b[0m \u001b[1m0s\u001b[0m 17ms/step\n",
      "Input Sentence: turn off the tv\n",
      "Predicted Marathi Translation: टीव्ही बंद कर\n",
      "\n",
      "Enter a sentence to translate or type '0' to exit:\n"
     ]
    },
    {
     "name": "stdout",
     "output_type": "stream",
     "text": [
      " i knew it\n"
     ]
    },
    {
     "name": "stdout",
     "output_type": "stream",
     "text": [
      "\u001b[1m1/1\u001b[0m \u001b[32m━━━━━━━━━━━━━━━━━━━━\u001b[0m\u001b[37m\u001b[0m \u001b[1m0s\u001b[0m 17ms/step\n",
      "\u001b[1m1/1\u001b[0m \u001b[32m━━━━━━━━━━━━━━━━━━━━\u001b[0m\u001b[37m\u001b[0m \u001b[1m0s\u001b[0m 18ms/step\n",
      "\u001b[1m1/1\u001b[0m \u001b[32m━━━━━━━━━━━━━━━━━━━━\u001b[0m\u001b[37m\u001b[0m \u001b[1m0s\u001b[0m 18ms/step\n",
      "\u001b[1m1/1\u001b[0m \u001b[32m━━━━━━━━━━━━━━━━━━━━\u001b[0m\u001b[37m\u001b[0m \u001b[1m0s\u001b[0m 17ms/step\n",
      "\u001b[1m1/1\u001b[0m \u001b[32m━━━━━━━━━━━━━━━━━━━━\u001b[0m\u001b[37m\u001b[0m \u001b[1m0s\u001b[0m 18ms/step\n",
      "Input Sentence: i knew it\n",
      "Predicted Marathi Translation: मला माहीत होतं\n",
      "\n",
      "Enter a sentence to translate or type '0' to exit:\n"
     ]
    },
    {
     "name": "stdout",
     "output_type": "stream",
     "text": [
      " 0\n"
     ]
    },
    {
     "name": "stdout",
     "output_type": "stream",
     "text": [
      "Exiting the program. Goodbye!\n"
     ]
    }
   ],
   "source": [
    "from keras.preprocessing.sequence import pad_sequences\n",
    "\n",
    "while True:\n",
    "    print(\"\\nEnter a sentence to translate or type '0' to exit:\")\n",
    "    input_sentence = input()\n",
    "    \n",
    "    if input_sentence == \"0\":\n",
    "        print(\"Exiting the program. Goodbye!\")\n",
    "        break\n",
    "    \n",
    "    # Process the input sentence\n",
    "    input_sequence = [input_token_index.get(word, 0) for word in input_sentence.split()]\n",
    "    input_sequence = pad_sequences([input_sequence], maxlen=max_length_src, padding='post')\n",
    "\n",
    "    # Decode the input sequence\n",
    "    decoded_sentence = decode_sequence(input_sequence)\n",
    "\n",
    "    # Clean up the decoded sentence if it ends with '_END'\n",
    "    if decoded_sentence.endswith(\" _END\"):\n",
    "        decoded_sentence = decoded_sentence[:-5].strip()\n",
    "\n",
    "    # Display results\n",
    "    print(\"Input Sentence:\", input_sentence)\n",
    "    print(\"Predicted Marathi Translation:\", decoded_sentence)\n"
   ]
  }
 ],
 "metadata": {
  "accelerator": "GPU",
  "colab": {
   "authorship_tag": "ABX9TyPSXwH/gQgxPd4dz1iQZvKT",
   "collapsed_sections": [],
   "machine_shape": "hm",
   "mount_file_id": "1LCNMVbY7XCqDmrau3uaaecNjWItTX-XC",
   "name": "english-marathi-translation.ipynb",
   "provenance": [],
   "toc_visible": true
  },
  "kaggle": {
   "accelerator": "nvidiaTeslaT4",
   "dataSources": [
    {
     "datasetId": 6427972,
     "sourceId": 10377069,
     "sourceType": "datasetVersion"
    },
    {
     "datasetId": 6431549,
     "sourceId": 10382271,
     "sourceType": "datasetVersion"
    }
   ],
   "dockerImageVersionId": 30823,
   "isGpuEnabled": true,
   "isInternetEnabled": true,
   "language": "python",
   "sourceType": "notebook"
  },
  "kernelspec": {
   "display_name": "Python 3 (ipykernel)",
   "language": "python",
   "name": "python3"
  },
  "language_info": {
   "codemirror_mode": {
    "name": "ipython",
    "version": 3
   },
   "file_extension": ".py",
   "mimetype": "text/x-python",
   "name": "python",
   "nbconvert_exporter": "python",
   "pygments_lexer": "ipython3",
   "version": "3.12.4"
  }
 },
 "nbformat": 4,
 "nbformat_minor": 4
}
